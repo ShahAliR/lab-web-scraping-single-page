{
 "cells": [
  {
   "cell_type": "code",
   "execution_count": 1,
   "id": "781fc7c9",
   "metadata": {},
   "outputs": [],
   "source": [
    "from bs4 import BeautifulSoup\n",
    "import requests\n",
    "import pandas as pd "
   ]
  },
  {
   "cell_type": "code",
   "execution_count": 4,
   "id": "b0ec2a44",
   "metadata": {},
   "outputs": [],
   "source": [
    "# 2. find url and store it in a variable\n",
    "url = \"https://www.popvortex.com/music/charts/top-100-songs.php\""
   ]
  },
  {
   "cell_type": "code",
   "execution_count": 5,
   "id": "c27ea567",
   "metadata": {},
   "outputs": [
    {
     "data": {
      "text/plain": [
       "200"
      ]
     },
     "execution_count": 5,
     "metadata": {},
     "output_type": "execute_result"
    }
   ],
   "source": [
    "# 3. download html with a get request\n",
    "response = requests.get(url)\n",
    "response.status_code # 200 status code means OK!"
   ]
  },
  {
   "cell_type": "code",
   "execution_count": 6,
   "id": "a0f17067",
   "metadata": {},
   "outputs": [],
   "source": [
    "# 4.1. parse html (create the 'soup')\n",
    "song = BeautifulSoup(response.content, \"html.parser\")"
   ]
  },
  {
   "cell_type": "code",
   "execution_count": null,
   "id": "78122cef",
   "metadata": {
    "scrolled": false
   },
   "outputs": [],
   "source": [
    "#song ##in order to be convenient and readable for TAs"
   ]
  },
  {
   "cell_type": "code",
   "execution_count": 10,
   "id": "14d57211",
   "metadata": {},
   "outputs": [
    {
     "data": {
      "text/plain": [
       "[<p class=\"title-artist\"><cite class=\"title\">Unholy</cite><em class=\"artist\">Sam Smith &amp; Kim Petras</em></p>]"
      ]
     },
     "execution_count": 10,
     "metadata": {},
     "output_type": "execute_result"
    }
   ],
   "source": [
    "song.select(\"#chart-position-1 > div.chart-content.col-xs-12.col-sm-8 > p\")"
   ]
  },
  {
   "cell_type": "code",
   "execution_count": 173,
   "id": "3fe47f56",
   "metadata": {},
   "outputs": [
    {
     "data": {
      "text/plain": [
       "[<em class=\"artist\">Sam Smith &amp; Kim Petras</em>,\n",
       " <em class=\"artist\">Transformation Worship</em>,\n",
       " <em class=\"artist\">Fleetwood Mac</em>,\n",
       " <em class=\"artist\">David Guetta &amp; Bebe Rexha</em>,\n",
       " <em class=\"artist\">HARDY &amp; Lainey Wilson</em>,\n",
       " <em class=\"artist\">Jelly Roll</em>,\n",
       " <em class=\"artist\">Kane Brown &amp; Katelyn Brown</em>,\n",
       " <em class=\"artist\">Morgan Wallen</em>,\n",
       " <em class=\"artist\">Christina Perri</em>,\n",
       " <em class=\"artist\">OneRepublic</em>,\n",
       " <em class=\"artist\">Sia</em>,\n",
       " <em class=\"artist\">Beyoncé</em>,\n",
       " <em class=\"artist\">Charlie Puth &amp; Jung Kook</em>,\n",
       " <em class=\"artist\">Morgan Wallen</em>,\n",
       " <em class=\"artist\">Cole Swindell</em>,\n",
       " <em class=\"artist\">Harry Styles</em>,\n",
       " <em class=\"artist\">Chris Brown</em>,\n",
       " <em class=\"artist\">Bailey Zimmerman</em>,\n",
       " <em class=\"artist\">Eminem</em>,\n",
       " <em class=\"artist\">Luke Combs</em>,\n",
       " <em class=\"artist\">Lady Gaga &amp; Bradley Cooper</em>,\n",
       " <em class=\"artist\">Nicki Minaj</em>,\n",
       " <em class=\"artist\">Flo Rida &amp; Walker Hayes</em>,\n",
       " <em class=\"artist\">Ed Sheeran</em>,\n",
       " <em class=\"artist\">Rascal Flatts</em>,\n",
       " <em class=\"artist\">Nicky Youre &amp; Dazy</em>,\n",
       " <em class=\"artist\">Ed Sheeran</em>,\n",
       " <em class=\"artist\">Post Malone</em>,\n",
       " <em class=\"artist\">Elton John &amp; Britney Spears</em>,\n",
       " <em class=\"artist\">Ellie Goulding</em>,\n",
       " <em class=\"artist\">Kate Bush</em>,\n",
       " <em class=\"artist\">Jax</em>,\n",
       " <em class=\"artist\">Lizzo</em>,\n",
       " <em class=\"artist\">Lizzo</em>,\n",
       " <em class=\"artist\">The Weeknd</em>,\n",
       " <em class=\"artist\">Justin Moore &amp; Priscilla Block</em>,\n",
       " <em class=\"artist\">Marshmello &amp; Khalid</em>,\n",
       " <em class=\"artist\">Phil Collins</em>,\n",
       " <em class=\"artist\">Bailey Zimmerman</em>,\n",
       " <em class=\"artist\">Lil Nas X</em>,\n",
       " <em class=\"artist\">Coolio</em>,\n",
       " <em class=\"artist\">The Citizens of Halloween</em>,\n",
       " <em class=\"artist\">Bruno Mars</em>,\n",
       " <em class=\"artist\">Doja Cat</em>,\n",
       " <em class=\"artist\">Tyler Childers</em>,\n",
       " <em class=\"artist\">Lady Gaga</em>,\n",
       " <em class=\"artist\">Jordan Davis</em>,\n",
       " <em class=\"artist\">Imagine Dragons</em>,\n",
       " <em class=\"artist\">Jackson Dean</em>,\n",
       " <em class=\"artist\">Lee Brice</em>,\n",
       " <em class=\"artist\">Elton John &amp; Dua Lipa</em>,\n",
       " <em class=\"artist\">Zach Bryan</em>,\n",
       " <em class=\"artist\">Steve Lacy</em>,\n",
       " <em class=\"artist\">Megan Moroney</em>,\n",
       " <em class=\"artist\">Dean Lewis</em>,\n",
       " <em class=\"artist\">Bobby \"Boris\" Pickett &amp; The Crypt-Kickers</em>,\n",
       " <em class=\"artist\">Chris Stapleton</em>,\n",
       " <em class=\"artist\">Jordan Davis</em>,\n",
       " <em class=\"artist\">Beyoncé</em>,\n",
       " <em class=\"artist\">Morgan Evans</em>,\n",
       " <em class=\"artist\">for KING &amp; COUNTRY &amp; Jordin Sparks</em>,\n",
       " <em class=\"artist\">John Denver</em>,\n",
       " <em class=\"artist\">Zach Bryan</em>,\n",
       " <em class=\"artist\">Drake, Kanye West, Lil Wayne &amp; Eminem</em>,\n",
       " <em class=\"artist\">Brandi Carlile</em>,\n",
       " <em class=\"artist\">Bad Bunny</em>,\n",
       " <em class=\"artist\">J.Fla</em>,\n",
       " <em class=\"artist\">Harry Styles</em>,\n",
       " <em class=\"artist\">Lewis Capaldi</em>,\n",
       " <em class=\"artist\">Blasterjaxx &amp; Timmy Trumpet</em>,\n",
       " <em class=\"artist\">Tyler Hubbard</em>,\n",
       " <em class=\"artist\">Chris Stapleton</em>,\n",
       " <em class=\"artist\">Lady Gaga</em>,\n",
       " <em class=\"artist\">Luke Bryan</em>,\n",
       " <em class=\"artist\">AJR</em>,\n",
       " <em class=\"artist\">Bailey Zimmerman</em>,\n",
       " <em class=\"artist\">Yung Gravy</em>,\n",
       " <em class=\"artist\">David Guetta &amp; Bebe Rexha</em>,\n",
       " <em class=\"artist\">Thomas Rhett</em>,\n",
       " <em class=\"artist\">Grupo Frontera</em>,\n",
       " <em class=\"artist\">Stray Kids</em>,\n",
       " <em class=\"artist\">Walker Hayes</em>,\n",
       " <em class=\"artist\">Kenny Chesney &amp; Old Dominion</em>,\n",
       " <em class=\"artist\">Shawn Mendes</em>,\n",
       " <em class=\"artist\">John Denver</em>,\n",
       " <em class=\"artist\">ATEEZ</em>,\n",
       " <em class=\"artist\">Joji</em>,\n",
       " <em class=\"artist\">John Denver</em>,\n",
       " <em class=\"artist\">Jelly Roll</em>,\n",
       " <em class=\"artist\">Christina Aguilera, Lil' Kim, Mýa &amp; P!nk</em>,\n",
       " <em class=\"artist\">Russell Dickerson &amp; Jake Scott</em>,\n",
       " <em class=\"artist\">Green Day</em>,\n",
       " <em class=\"artist\">Cody Johnson</em>,\n",
       " <em class=\"artist\">Bette Midler, Sarah Jessica Parker &amp; Kathy Najimy</em>,\n",
       " <em class=\"artist\">Guns N' Roses</em>,\n",
       " <em class=\"artist\">Carolina Gaitán - La Gaita, Mauro Castillo, Adassa, Rhenzy Feliz, Diane Guerrero, Stephanie Beatriz &amp; Encanto - Cast</em>,\n",
       " <em class=\"artist\">Bad Bunny &amp; Chencho Corleone</em>,\n",
       " <em class=\"artist\">Morgan Wallen</em>,\n",
       " <em class=\"artist\">Simple Minds</em>,\n",
       " <em class=\"artist\">Chris Stapleton</em>]"
      ]
     },
     "execution_count": 173,
     "metadata": {},
     "output_type": "execute_result"
    }
   ],
   "source": [
    "song.select(\".artist\")#all artistsof top100 song"
   ]
  },
  {
   "cell_type": "code",
   "execution_count": 174,
   "id": "9c243713",
   "metadata": {},
   "outputs": [
    {
     "data": {
      "text/plain": [
       "[<cite class=\"title\">Unholy</cite>,\n",
       " <cite class=\"title\">Eagle (feat. KB)</cite>,\n",
       " <cite class=\"title\">Everywhere</cite>,\n",
       " <cite class=\"title\">I'm Good (Blue)</cite>,\n",
       " <cite class=\"title\">wait in the truck</cite>,\n",
       " <cite class=\"title\">Son Of A Sinner</cite>,\n",
       " <cite class=\"title\">Thank God</cite>,\n",
       " <cite class=\"title\">You Proof</cite>,\n",
       " <cite class=\"title\">A Thousand Years</cite>,\n",
       " <cite class=\"title\">I Ain't Worried</cite>,\n",
       " <cite class=\"title\">Unstoppable</cite>,\n",
       " <cite class=\"title\">CUFF IT</cite>,\n",
       " <cite class=\"title\">Left and Right</cite>,\n",
       " <cite class=\"title\">Wasted On You</cite>,\n",
       " <cite class=\"title\">She Had Me At Heads Carolina</cite>,\n",
       " <cite class=\"title\">As It Was</cite>,\n",
       " <cite class=\"title\">Under the Influence</cite>,\n",
       " <cite class=\"title\">Fall In Love</cite>,\n",
       " <cite class=\"title\">Lose Yourself</cite>,\n",
       " <cite class=\"title\">The Kind of Love We Make</cite>,\n",
       " <cite class=\"title\">Shallow</cite>,\n",
       " <cite class=\"title\">Super Freaky Girl</cite>,\n",
       " <cite class=\"title\">High Heels</cite>,\n",
       " <cite class=\"title\">Celestial</cite>,\n",
       " <cite class=\"title\">Life Is a Highway</cite>,\n",
       " <cite class=\"title\">Sunroof</cite>,\n",
       " <cite class=\"title\">Shivers</cite>,\n",
       " <cite class=\"title\">I Like You (A Happier Song) [feat. Doja Cat]</cite>,\n",
       " <cite class=\"title\">Hold Me Closer</cite>,\n",
       " <cite class=\"title\">Love Me Like You Do</cite>,\n",
       " <cite class=\"title\">Running Up That Hill (A Deal with God)</cite>,\n",
       " <cite class=\"title\">Victoria’s Secret</cite>,\n",
       " <cite class=\"title\">About Damn Time</cite>,\n",
       " <cite class=\"title\">2 Be Loved (Am I Ready)</cite>,\n",
       " <cite class=\"title\">Earned It</cite>,\n",
       " <cite class=\"title\">You, Me, And Whiskey</cite>,\n",
       " <cite class=\"title\">Numb</cite>,\n",
       " <cite class=\"title\">You'll Be In My Heart</cite>,\n",
       " <cite class=\"title\">Rock and a Hard Place</cite>,\n",
       " <cite class=\"title\">STAR WALKIN' (League of Legends Worlds Anthem)</cite>,\n",
       " <cite class=\"title\">Gangsta's Paradise (feat. L.V.)</cite>,\n",
       " <cite class=\"title\">This Is Halloween</cite>,\n",
       " <cite class=\"title\">It Will Rain</cite>,\n",
       " <cite class=\"title\">Vegas (From the Original Motion Picture Soundtrack ELVIS)</cite>,\n",
       " <cite class=\"title\">Way of the Triune God (Hallelujah Version)</cite>,\n",
       " <cite class=\"title\">Always Remember Us This Way</cite>,\n",
       " <cite class=\"title\">Next Thing You Know</cite>,\n",
       " <cite class=\"title\">Bones</cite>,\n",
       " <cite class=\"title\">Don’t Come Lookin’</cite>,\n",
       " <cite class=\"title\">Soul</cite>,\n",
       " <cite class=\"title\">Cold Heart (PNAU Remix)</cite>,\n",
       " <cite class=\"title\">Something in the Orange (Z&amp;E's Version)</cite>,\n",
       " <cite class=\"title\">Bad Habit</cite>,\n",
       " <cite class=\"title\">Tennessee Orange</cite>,\n",
       " <cite class=\"title\">How Do I Say Goodbye</cite>,\n",
       " <cite class=\"title\">Monster Mash</cite>,\n",
       " <cite class=\"title\">Tennessee Whiskey</cite>,\n",
       " <cite class=\"title\">What My World Spins Around</cite>,\n",
       " <cite class=\"title\">CUFF IT</cite>,\n",
       " <cite class=\"title\">Over For You (Live in Melbourne)</cite>,\n",
       " <cite class=\"title\">Love Me Like I Am</cite>,\n",
       " <cite class=\"title\">Take Me Home, Country Roads</cite>,\n",
       " <cite class=\"title\">Something in the Orange</cite>,\n",
       " <cite class=\"title\">Forever</cite>,\n",
       " <cite class=\"title\">The Joke</cite>,\n",
       " <cite class=\"title\">Tití Me Preguntó</cite>,\n",
       " <cite class=\"title\">Bedroom Singer</cite>,\n",
       " <cite class=\"title\">Late Night Talking</cite>,\n",
       " <cite class=\"title\">Forget Me</cite>,\n",
       " <cite class=\"title\">Narco</cite>,\n",
       " <cite class=\"title\">5 Foot 9</cite>,\n",
       " <cite class=\"title\">Joy of My Life</cite>,\n",
       " <cite class=\"title\">Hold My Hand</cite>,\n",
       " <cite class=\"title\">Country On</cite>,\n",
       " <cite class=\"title\">World's Smallest Violin</cite>,\n",
       " <cite class=\"title\">Never Leave</cite>,\n",
       " <cite class=\"title\">Betty (Get Money)</cite>,\n",
       " <cite class=\"title\">I'm Good (Blue)</cite>,\n",
       " <cite class=\"title\">Half Of Me (feat. Riley Green)</cite>,\n",
       " <cite class=\"title\">No Se Va (En Vivo)</cite>,\n",
       " <cite class=\"title\">CASE 143</cite>,\n",
       " <cite class=\"title\">Fancy Like</cite>,\n",
       " <cite class=\"title\">Beer With My Friends</cite>,\n",
       " <cite class=\"title\">Top Of The World</cite>,\n",
       " <cite class=\"title\">Annie's Song</cite>,\n",
       " <cite class=\"title\">Say My Name</cite>,\n",
       " <cite class=\"title\">Glimpse of Us</cite>,\n",
       " <cite class=\"title\">Rocky Mountain High</cite>,\n",
       " <cite class=\"title\">Save Me</cite>,\n",
       " <cite class=\"title\">Lady Marmalade</cite>,\n",
       " <cite class=\"title\">She Likes It (feat. Jake Scott)</cite>,\n",
       " <cite class=\"title\">Boulevard of Broken Dreams (feat. John Gallagher Jr., Rebecca Naomi Jones, Stark Sands &amp; Company)</cite>,\n",
       " <cite class=\"title\">'Til You Can't</cite>,\n",
       " <cite class=\"title\">One Way or Another (Hocus Pocus 2 Version)</cite>,\n",
       " <cite class=\"title\">Sweet Child O' Mine</cite>,\n",
       " <cite class=\"title\">We Don't Talk About Bruno</cite>,\n",
       " <cite class=\"title\">Me Porto Bonito</cite>,\n",
       " <cite class=\"title\">Whiskey Glasses</cite>,\n",
       " <cite class=\"title\">Don't You (Forget About Me)</cite>,\n",
       " <cite class=\"title\">Starting Over</cite>]"
      ]
     },
     "execution_count": 174,
     "metadata": {},
     "output_type": "execute_result"
    }
   ],
   "source": [
    "song.select(\".title\") # all top 100 song title"
   ]
  },
  {
   "cell_type": "code",
   "execution_count": 57,
   "id": "3282c99a",
   "metadata": {},
   "outputs": [
    {
     "data": {
      "text/plain": [
       "'Sam Smith & Kim Petras'"
      ]
     },
     "execution_count": 57,
     "metadata": {},
     "output_type": "execute_result"
    }
   ],
   "source": [
    "song.select(\".artist\")[0].get_text() # artists of forst song"
   ]
  },
  {
   "cell_type": "code",
   "execution_count": 175,
   "id": "0c549b74",
   "metadata": {},
   "outputs": [
    {
     "data": {
      "text/plain": [
       "'Unholy'"
      ]
     },
     "execution_count": 175,
     "metadata": {},
     "output_type": "execute_result"
    }
   ],
   "source": [
    "song.select(\".title\")[0].get_text()# title of forst song"
   ]
  },
  {
   "cell_type": "code",
   "execution_count": 187,
   "id": "0de9fc5e",
   "metadata": {},
   "outputs": [
    {
     "name": "stdout",
     "output_type": "stream",
     "text": [
      "['Unholy', 'Eagle (feat. KB)', 'Everywhere', \"I'm Good (Blue)\", 'wait in the truck', 'Son Of A Sinner', 'Thank God', 'You Proof', 'A Thousand Years', \"I Ain't Worried\", 'Unstoppable', 'CUFF IT', 'Left and Right', 'Wasted On You', 'She Had Me At Heads Carolina', 'As It Was', 'Under the Influence', 'Fall In Love', 'Lose Yourself', 'The Kind of Love We Make', 'Shallow', 'Super Freaky Girl', 'High Heels', 'Celestial', 'Life Is a Highway', 'Sunroof', 'Shivers', 'I Like You (A Happier Song) [feat. Doja Cat]', 'Hold Me Closer', 'Love Me Like You Do', 'Running Up That Hill (A Deal with God)', 'Victoria’s Secret', 'About Damn Time', '2 Be Loved (Am I Ready)', 'Earned It', 'You, Me, And Whiskey', 'Numb', \"You'll Be In My Heart\", 'Rock and a Hard Place', \"STAR WALKIN' (League of Legends Worlds Anthem)\", \"Gangsta's Paradise (feat. L.V.)\", 'This Is Halloween', 'It Will Rain', 'Vegas (From the Original Motion Picture Soundtrack ELVIS)', 'Way of the Triune God (Hallelujah Version)', 'Always Remember Us This Way', 'Next Thing You Know', 'Bones', 'Don’t Come Lookin’', 'Soul', 'Cold Heart (PNAU Remix)', \"Something in the Orange (Z&E's Version)\", 'Bad Habit', 'Tennessee Orange', 'How Do I Say Goodbye', 'Monster Mash', 'Tennessee Whiskey', 'What My World Spins Around', 'CUFF IT', 'Over For You (Live in Melbourne)', 'Love Me Like I Am', 'Take Me Home, Country Roads', 'Something in the Orange', 'Forever', 'The Joke', 'Tití Me Preguntó', 'Bedroom Singer', 'Late Night Talking', 'Forget Me', 'Narco', '5 Foot 9', 'Joy of My Life', 'Hold My Hand', 'Country On', \"World's Smallest Violin\", 'Never Leave', 'Betty (Get Money)', \"I'm Good (Blue)\", 'Half Of Me (feat. Riley Green)', 'No Se Va (En Vivo)', 'CASE 143', 'Fancy Like', 'Beer With My Friends', 'Top Of The World', \"Annie's Song\", 'Say My Name', 'Glimpse of Us', 'Rocky Mountain High', 'Save Me', 'Lady Marmalade', 'She Likes It (feat. Jake Scott)', 'Boulevard of Broken Dreams (feat. John Gallagher Jr., Rebecca Naomi Jones, Stark Sands & Company)', \"'Til You Can't\", 'One Way or Another (Hocus Pocus 2 Version)', \"Sweet Child O' Mine\", \"We Don't Talk About Bruno\", 'Me Porto Bonito', 'Whiskey Glasses', \"Don't You (Forget About Me)\", 'Starting Over']\n",
      "['Sam Smith & Kim Petras', 'Transformation Worship', 'Fleetwood Mac', 'David Guetta & Bebe Rexha', 'HARDY & Lainey Wilson', 'Jelly Roll', 'Kane Brown & Katelyn Brown', 'Morgan Wallen', 'Christina Perri', 'OneRepublic', 'Sia', 'Beyoncé', 'Charlie Puth & Jung Kook', 'Morgan Wallen', 'Cole Swindell', 'Harry Styles', 'Chris Brown', 'Bailey Zimmerman', 'Eminem', 'Luke Combs', 'Lady Gaga & Bradley Cooper', 'Nicki Minaj', 'Flo Rida & Walker Hayes', 'Ed Sheeran', 'Rascal Flatts', 'Nicky Youre & Dazy', 'Ed Sheeran', 'Post Malone', 'Elton John & Britney Spears', 'Ellie Goulding', 'Kate Bush', 'Jax', 'Lizzo', 'Lizzo', 'The Weeknd', 'Justin Moore & Priscilla Block', 'Marshmello & Khalid', 'Phil Collins', 'Bailey Zimmerman', 'Lil Nas X', 'Coolio', 'The Citizens of Halloween', 'Bruno Mars', 'Doja Cat', 'Tyler Childers', 'Lady Gaga', 'Jordan Davis', 'Imagine Dragons', 'Jackson Dean', 'Lee Brice', 'Elton John & Dua Lipa', 'Zach Bryan', 'Steve Lacy', 'Megan Moroney', 'Dean Lewis', 'Bobby \"Boris\" Pickett & The Crypt-Kickers', 'Chris Stapleton', 'Jordan Davis', 'Beyoncé', 'Morgan Evans', 'for KING & COUNTRY & Jordin Sparks', 'John Denver', 'Zach Bryan', 'Drake, Kanye West, Lil Wayne & Eminem', 'Brandi Carlile', 'Bad Bunny', 'J.Fla', 'Harry Styles', 'Lewis Capaldi', 'Blasterjaxx & Timmy Trumpet', 'Tyler Hubbard', 'Chris Stapleton', 'Lady Gaga', 'Luke Bryan', 'AJR', 'Bailey Zimmerman', 'Yung Gravy', 'David Guetta & Bebe Rexha', 'Thomas Rhett', 'Grupo Frontera', 'Stray Kids', 'Walker Hayes', 'Kenny Chesney & Old Dominion', 'Shawn Mendes', 'John Denver', 'ATEEZ', 'Joji', 'John Denver', 'Jelly Roll', \"Christina Aguilera, Lil' Kim, Mýa & P!nk\", 'Russell Dickerson & Jake Scott', 'Green Day', 'Cody Johnson', 'Bette Midler, Sarah Jessica Parker & Kathy Najimy', \"Guns N' Roses\", 'Carolina Gaitán - La Gaita, Mauro Castillo, Adassa, Rhenzy Feliz, Diane Guerrero, Stephanie Beatriz & Encanto - Cast', 'Bad Bunny & Chencho Corleone', 'Morgan Wallen', 'Simple Minds', 'Chris Stapleton']\n"
     ]
    }
   ],
   "source": [
    "title = []\n",
    "num_iter = len(song.select(\".title\"))\n",
    "\n",
    "for i in range(num_iter):\n",
    "    citelist = song.select(\".title\") \n",
    "    title.append(citelist[i].get_text())\n",
    "\n",
    "print(title)\n",
    "\n",
    "artists = []\n",
    "num_iter1 = len(song.select(\".artist\"))\n",
    "\n",
    "for i in range(num_iter1):\n",
    "    emlist = song.select(\".artist\") \n",
    "    artists.append(emlist[i].get_text())\n",
    "\n",
    "print(artists)\n",
    "\n"
   ]
  },
  {
   "cell_type": "code",
   "execution_count": 188,
   "id": "e10b1e14",
   "metadata": {},
   "outputs": [],
   "source": [
    " # each list becomes a column\n",
    "topsong = pd.DataFrame({\"title\":title,\n",
    "                       \"artists\":artists })"
   ]
  },
  {
   "cell_type": "code",
   "execution_count": 189,
   "id": "79f7b5a6",
   "metadata": {},
   "outputs": [
    {
     "data": {
      "text/html": [
       "<div>\n",
       "<style scoped>\n",
       "    .dataframe tbody tr th:only-of-type {\n",
       "        vertical-align: middle;\n",
       "    }\n",
       "\n",
       "    .dataframe tbody tr th {\n",
       "        vertical-align: top;\n",
       "    }\n",
       "\n",
       "    .dataframe thead th {\n",
       "        text-align: right;\n",
       "    }\n",
       "</style>\n",
       "<table border=\"1\" class=\"dataframe\">\n",
       "  <thead>\n",
       "    <tr style=\"text-align: right;\">\n",
       "      <th></th>\n",
       "      <th>title</th>\n",
       "      <th>artists</th>\n",
       "    </tr>\n",
       "  </thead>\n",
       "  <tbody>\n",
       "    <tr>\n",
       "      <th>0</th>\n",
       "      <td>Unholy</td>\n",
       "      <td>Sam Smith &amp; Kim Petras</td>\n",
       "    </tr>\n",
       "    <tr>\n",
       "      <th>1</th>\n",
       "      <td>Eagle (feat. KB)</td>\n",
       "      <td>Transformation Worship</td>\n",
       "    </tr>\n",
       "    <tr>\n",
       "      <th>2</th>\n",
       "      <td>Everywhere</td>\n",
       "      <td>Fleetwood Mac</td>\n",
       "    </tr>\n",
       "    <tr>\n",
       "      <th>3</th>\n",
       "      <td>I'm Good (Blue)</td>\n",
       "      <td>David Guetta &amp; Bebe Rexha</td>\n",
       "    </tr>\n",
       "    <tr>\n",
       "      <th>4</th>\n",
       "      <td>wait in the truck</td>\n",
       "      <td>HARDY &amp; Lainey Wilson</td>\n",
       "    </tr>\n",
       "    <tr>\n",
       "      <th>...</th>\n",
       "      <td>...</td>\n",
       "      <td>...</td>\n",
       "    </tr>\n",
       "    <tr>\n",
       "      <th>95</th>\n",
       "      <td>We Don't Talk About Bruno</td>\n",
       "      <td>Carolina Gaitán - La Gaita, Mauro Castillo, Ad...</td>\n",
       "    </tr>\n",
       "    <tr>\n",
       "      <th>96</th>\n",
       "      <td>Me Porto Bonito</td>\n",
       "      <td>Bad Bunny &amp; Chencho Corleone</td>\n",
       "    </tr>\n",
       "    <tr>\n",
       "      <th>97</th>\n",
       "      <td>Whiskey Glasses</td>\n",
       "      <td>Morgan Wallen</td>\n",
       "    </tr>\n",
       "    <tr>\n",
       "      <th>98</th>\n",
       "      <td>Don't You (Forget About Me)</td>\n",
       "      <td>Simple Minds</td>\n",
       "    </tr>\n",
       "    <tr>\n",
       "      <th>99</th>\n",
       "      <td>Starting Over</td>\n",
       "      <td>Chris Stapleton</td>\n",
       "    </tr>\n",
       "  </tbody>\n",
       "</table>\n",
       "<p>100 rows × 2 columns</p>\n",
       "</div>"
      ],
      "text/plain": [
       "                          title  \\\n",
       "0                        Unholy   \n",
       "1              Eagle (feat. KB)   \n",
       "2                    Everywhere   \n",
       "3               I'm Good (Blue)   \n",
       "4             wait in the truck   \n",
       "..                          ...   \n",
       "95    We Don't Talk About Bruno   \n",
       "96              Me Porto Bonito   \n",
       "97              Whiskey Glasses   \n",
       "98  Don't You (Forget About Me)   \n",
       "99                Starting Over   \n",
       "\n",
       "                                              artists  \n",
       "0                              Sam Smith & Kim Petras  \n",
       "1                              Transformation Worship  \n",
       "2                                       Fleetwood Mac  \n",
       "3                           David Guetta & Bebe Rexha  \n",
       "4                               HARDY & Lainey Wilson  \n",
       "..                                                ...  \n",
       "95  Carolina Gaitán - La Gaita, Mauro Castillo, Ad...  \n",
       "96                       Bad Bunny & Chencho Corleone  \n",
       "97                                      Morgan Wallen  \n",
       "98                                       Simple Minds  \n",
       "99                                    Chris Stapleton  \n",
       "\n",
       "[100 rows x 2 columns]"
      ]
     },
     "execution_count": 189,
     "metadata": {},
     "output_type": "execute_result"
    }
   ],
   "source": [
    "topsong"
   ]
  },
  {
   "cell_type": "code",
   "execution_count": 191,
   "id": "33bd6a1e",
   "metadata": {},
   "outputs": [
    {
     "name": "stdout",
     "output_type": "stream",
     "text": [
      "Enter a song name : Love Me Like You Do\n",
      "I recommend you: Earned It\n"
     ]
    }
   ],
   "source": [
    "import random\n",
    "lst = title\n",
    "word = input('Enter a song name : ')\n",
    "\n",
    "if word in lst:\n",
    "    \n",
    "    print('I recommend you:', random.choice(topsong['title']))\n",
    "    \n",
    "else:\n",
    "    print('Sorry, I dont Have any recomendation for you')\n",
    " \n",
    "\n",
    "#### k=1\n",
    "# while(k):\n",
    "#     music_name=str(input(\"please import a song name:\"))\n",
    "#     if music_name in music['title'].values:\n",
    "#         arbi=random.randint(0,len(music.index)-1)\n",
    "#         print('Our recommandation for you is:',music['title'][arbi],'singed by',music['artist'][arbi])\n",
    "#         if music['title'][arbi]==music_name:\n",
    "#             continue\n",
    "#         else:\n",
    "#             k=0\n",
    "#     else:\n",
    "#         print('sorry the song is not in the list')\n",
    "#         k=0\n"
   ]
  },
  {
   "cell_type": "code",
   "execution_count": null,
   "id": "9c310773",
   "metadata": {},
   "outputs": [],
   "source": [
    "url2 = \"https://en.wikipedia.org/wiki/Lists_of_songs\""
   ]
  },
  {
   "cell_type": "code",
   "execution_count": null,
   "id": "a8a85fbc",
   "metadata": {},
   "outputs": [],
   "source": [
    "response = requests.get(url2)\n",
    "response.status_code # 200 status code means OK!"
   ]
  },
  {
   "cell_type": "code",
   "execution_count": null,
   "id": "bafb04bd",
   "metadata": {},
   "outputs": [],
   "source": [
    "soup = BeautifulSoup(response.content, \"html.parser\")"
   ]
  }
 ],
 "metadata": {
  "kernelspec": {
   "display_name": "Python 3",
   "language": "python",
   "name": "python3"
  },
  "language_info": {
   "codemirror_mode": {
    "name": "ipython",
    "version": 3
   },
   "file_extension": ".py",
   "mimetype": "text/x-python",
   "name": "python",
   "nbconvert_exporter": "python",
   "pygments_lexer": "ipython3",
   "version": "3.9.12"
  },
  "toc": {
   "base_numbering": 1,
   "nav_menu": {},
   "number_sections": true,
   "sideBar": true,
   "skip_h1_title": false,
   "title_cell": "Table of Contents",
   "title_sidebar": "Contents",
   "toc_cell": false,
   "toc_position": {},
   "toc_section_display": true,
   "toc_window_display": true
  }
 },
 "nbformat": 4,
 "nbformat_minor": 5
}
