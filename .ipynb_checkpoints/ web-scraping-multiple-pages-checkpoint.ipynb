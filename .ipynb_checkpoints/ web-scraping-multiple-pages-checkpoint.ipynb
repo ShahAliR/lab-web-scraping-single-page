{
 "cells": [
  {
   "cell_type": "markdown",
   "id": "2d68118c",
   "metadata": {
    "toc": true
   },
   "source": [
    "<h1>Table of Contentser<span class=\"tocSkip\"></span></h1>\n",
    "<div class=\"toc\"><ul class=\"toc-item\"></ul></div>"
   ]
  },
  {
   "cell_type": "markdown",
   "id": "051df8ae",
   "metadata": {},
   "source": [
    "# Greatest Christmas Songs of All Time"
   ]
  },
  {
   "cell_type": "code",
   "execution_count": null,
   "id": "d08687c1",
   "metadata": {},
   "outputs": [],
   "source": [
    "# importing module and packages\n",
    "from bs4 import BeautifulSoup\n",
    "import requests\n",
    "import pandas as pd "
   ]
  },
  {
   "cell_type": "code",
   "execution_count": null,
   "id": "13570a9b",
   "metadata": {},
   "outputs": [],
   "source": [
    "# 2. find url and store it in a variable\n",
    "url = \"https://www.goodhousekeeping.com/holidays/christmas-ideas/g2680/christmas-songs\""
   ]
  },
  {
   "cell_type": "code",
   "execution_count": null,
   "id": "7d9cb3a5",
   "metadata": {},
   "outputs": [],
   "source": [
    "# 3. download html with a get request\n",
    "response = requests.get(url)\n",
    "response.status_code # 200 status code means OK!"
   ]
  },
  {
   "cell_type": "code",
   "execution_count": null,
   "id": "20dfaf4e",
   "metadata": {},
   "outputs": [],
   "source": [
    "song = BeautifulSoup(response.content, \"html.parser\")"
   ]
  },
  {
   "cell_type": "code",
   "execution_count": null,
   "id": "f2dfe589",
   "metadata": {},
   "outputs": [],
   "source": [
    "song.select(\"body > main > div.content-container.listicle-container > div.listicle-body > div.listicle-body-content > div:nth-child(1) > div.listicle-slide-hed > span.listicle-slide-hed-text\")"
   ]
  },
  {
   "cell_type": "code",
   "execution_count": null,
   "id": "059423bb",
   "metadata": {},
   "outputs": [],
   "source": [
    "song.select(\"span.listicle-slide-hed-text\") "
   ]
  },
  {
   "cell_type": "code",
   "execution_count": null,
   "id": "78667699",
   "metadata": {},
   "outputs": [],
   "source": [
    "song.select(\"span.listicle-slide-hed-text \")[0].get_text()[-5:-1]"
   ]
  },
  {
   "cell_type": "code",
   "execution_count": null,
   "id": "7b2fec7c",
   "metadata": {},
   "outputs": [],
   "source": [
    " song.select(\"span.listicle-slide-hed-text \")[0].get_text()[ :-7]"
   ]
  },
  {
   "cell_type": "code",
   "execution_count": null,
   "id": "6c0fd58d",
   "metadata": {},
   "outputs": [],
   "source": [
    "title = []\n",
    "year = []\n",
    "\n",
    "num_iter = len(song.select(\"span.listicle-slide-hed-text\"))\n",
    "\n",
    "for i in range(num_iter):\n",
    "    tlist = song.select(\"span.listicle-slide-hed-text\") \n",
    "    title.append(tlist[i].get_text()[ :-7])\n",
    "    ylist = song.select(\"span.listicle-slide-hed-text\") \n",
    "    year.append(ylist[i].get_text()[-5:-1])\n",
    "    \n",
    "    \n",
    "\n",
    "    print(title)\n",
    "    print(year)\n"
   ]
  },
  {
   "cell_type": "code",
   "execution_count": null,
   "id": "e2a64bcc",
   "metadata": {},
   "outputs": [],
   "source": [
    "    print(title)\n",
    "    print(year)"
   ]
  },
  {
   "cell_type": "code",
   "execution_count": null,
   "id": "27e34e7f",
   "metadata": {},
   "outputs": [],
   "source": [
    "# each list becomes a column\n",
    "christmas_songs= pd.DataFrame({\"title\":title,\n",
    "                        \"year\":year})"
   ]
  },
  {
   "cell_type": "code",
   "execution_count": null,
   "id": "4fa4687a",
   "metadata": {},
   "outputs": [],
   "source": [
    "Chrismas_song"
   ]
  }
 ],
 "metadata": {
  "kernelspec": {
   "display_name": "Python 3",
   "language": "python",
   "name": "python3"
  },
  "language_info": {
   "codemirror_mode": {
    "name": "ipython",
    "version": 3
   },
   "file_extension": ".py",
   "mimetype": "text/x-python",
   "name": "python",
   "nbconvert_exporter": "python",
   "pygments_lexer": "ipython3",
   "version": "3.9.12"
  },
  "toc": {
   "base_numbering": "1",
   "nav_menu": {},
   "number_sections": true,
   "sideBar": true,
   "skip_h1_title": true,
   "title_cell": "Table of Contentser",
   "title_sidebar": "",
   "toc_cell": true,
   "toc_position": {
    "height": "calc(100% - 180px)",
    "left": "10px",
    "top": "150px",
    "width": "384px"
   },
   "toc_section_display": true,
   "toc_window_display": false
  }
 },
 "nbformat": 4,
 "nbformat_minor": 5
}
